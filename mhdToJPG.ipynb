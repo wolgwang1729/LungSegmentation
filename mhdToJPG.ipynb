{
 "cells": [
  {
   "cell_type": "code",
   "execution_count": 1,
   "metadata": {},
   "outputs": [],
   "source": [
    "import SimpleITK as sitk\n",
    "import matplotlib.pyplot as plt\n",
    "import os\n",
    "import numpy as np\n",
    "from PIL import Image\n"
   ]
  },
  {
   "cell_type": "markdown",
   "metadata": {},
   "source": [
    "## CT Images for Training"
   ]
  },
  {
   "cell_type": "code",
   "execution_count": 2,
   "metadata": {},
   "outputs": [],
   "source": [
    "\n",
    "for i in range(1,17):\n",
    "    ct_scan_image = sitk.ReadImage('archive\\ct_scans\\VESSEL12_'+str(i).zfill(2)+'.mhd')\n",
    "    image_array = sitk.GetArrayFromImage(ct_scan_image)\n",
    "    img_save_path = \"DetectronCompatibleData\\\\train\"\n",
    "    img_name = \"VESSEL12_\"+str(i).zfill(2)\n",
    "    for j in range(0,image_array.shape[0] , 1):\n",
    "        slice_array=image_array[j].astype(np.float32)\n",
    "        normalized_array = (slice_array - slice_array.min()) / (\n",
    "            slice_array.max() - slice_array.min()\n",
    "        )\n",
    "        scaled_array = (normalized_array * 255).astype(np.uint8)\n",
    "\n",
    "        ithslice = str(j)\n",
    "        file_path = os.path.join(img_save_path, img_name + \"_\" + ithslice + \".jpg\")\n",
    "        os.makedirs(img_save_path, exist_ok=True)\n",
    "\n",
    "        image = Image.fromarray(np.uint8(scaled_array), \"L\")\n",
    "        image.save(file_path)"
   ]
  },
  {
   "cell_type": "markdown",
   "metadata": {},
   "source": [
    "## CT Images for Validation"
   ]
  },
  {
   "cell_type": "code",
   "execution_count": 3,
   "metadata": {},
   "outputs": [],
   "source": [
    "\n",
    "for i in range(17,19):\n",
    "    ct_scan_image = sitk.ReadImage('archive\\ct_scans\\VESSEL12_'+str(i).zfill(2)+'.mhd')\n",
    "    image_array = sitk.GetArrayFromImage(ct_scan_image)\n",
    "    img_save_path = \"DetectronCompatibleData\\\\val\"\n",
    "    img_name = \"VESSEL12_\"+str(i).zfill(2)\n",
    "    for j in range(0,image_array.shape[0] , 1):\n",
    "        slice_array=image_array[j].astype(np.float32)\n",
    "        normalized_array = (slice_array - slice_array.min()) / (\n",
    "            slice_array.max() - slice_array.min()\n",
    "        )\n",
    "        scaled_array = (normalized_array * 255).astype(np.uint8)\n",
    "\n",
    "        ithslice = str(j)\n",
    "        file_path = os.path.join(img_save_path, img_name + \"_\" + ithslice + \".jpg\")\n",
    "        os.makedirs(img_save_path, exist_ok=True)\n",
    "\n",
    "        image = Image.fromarray(np.uint8(scaled_array), \"L\")\n",
    "        image.save(file_path)"
   ]
  },
  {
   "cell_type": "markdown",
   "metadata": {},
   "source": [
    "## CT Images for Testing"
   ]
  },
  {
   "cell_type": "code",
   "execution_count": 4,
   "metadata": {},
   "outputs": [],
   "source": [
    "\n",
    "for i in range(19,21):\n",
    "    ct_scan_image = sitk.ReadImage('archive\\ct_scans\\VESSEL12_'+str(i).zfill(2)+'.mhd')\n",
    "    image_array = sitk.GetArrayFromImage(ct_scan_image)\n",
    "    img_save_path = \"DetectronCompatibleData\\\\test\"\n",
    "    img_name = \"VESSEL12_\"+str(i).zfill(2)\n",
    "    for j in range(0,image_array.shape[0] , 1):\n",
    "        slice_array=image_array[j].astype(np.float32)\n",
    "        normalized_array = (slice_array - slice_array.min()) / (\n",
    "            slice_array.max() - slice_array.min()\n",
    "        )\n",
    "        scaled_array = (normalized_array * 255).astype(np.uint8)\n",
    "\n",
    "        ithslice = str(j)\n",
    "        file_path = os.path.join(img_save_path, img_name + \"_\" + ithslice + \".jpg\")\n",
    "        os.makedirs(img_save_path, exist_ok=True)\n",
    "\n",
    "        image = Image.fromarray(np.uint8(scaled_array), \"L\")\n",
    "        image.save(file_path)"
   ]
  },
  {
   "cell_type": "code",
   "execution_count": null,
   "metadata": {},
   "outputs": [],
   "source": []
  }
 ],
 "metadata": {
  "kernelspec": {
   "display_name": "Python 3",
   "language": "python",
   "name": "python3"
  },
  "language_info": {
   "codemirror_mode": {
    "name": "ipython",
    "version": 3
   },
   "file_extension": ".py",
   "mimetype": "text/x-python",
   "name": "python",
   "nbconvert_exporter": "python",
   "pygments_lexer": "ipython3",
   "version": "3.11.4"
  }
 },
 "nbformat": 4,
 "nbformat_minor": 2
}
